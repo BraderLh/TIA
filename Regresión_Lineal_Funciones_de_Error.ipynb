{
  "nbformat": 4,
  "nbformat_minor": 0,
  "metadata": {
    "colab": {
      "name": "Regresión Lineal - Funciones de Error.ipynb",
      "provenance": [],
      "collapsed_sections": []
    },
    "kernelspec": {
      "name": "python3",
      "display_name": "Python 3"
    },
    "language_info": {
      "name": "python"
    }
  },
  "cells": [
    {
      "cell_type": "code",
      "metadata": {
        "id": "nPPFwk0KrlAd"
      },
      "source": [
        "import numpy as np\n",
        "import matplotlib.pyplot as plt\n",
        "import math"
      ],
      "execution_count": 276,
      "outputs": []
    },
    {
      "cell_type": "code",
      "metadata": {
        "id": "GY52Ysst1tgx"
      },
      "source": [
        "x_ds = [i for i in range(30)]\n",
        "y_ds = [ i + np.random.normal(0,2) for i in x_ds ]\n",
        "#w = np.random.rand(2)\n",
        "#plt.plot(x_ds,y_ds, '.')"
      ],
      "execution_count": 277,
      "outputs": []
    },
    {
      "cell_type": "markdown",
      "metadata": {
        "id": "I-v_WDROscxd"
      },
      "source": [
        "$h(x_i) = w_0 + w_1x_i$\n"
      ]
    },
    {
      "cell_type": "code",
      "metadata": {
        "id": "srUioS4vsoxa"
      },
      "source": [
        "#w = np.random.rand(2)\n",
        "def h(x,w):\n",
        "  return w[0] + w[1]*x\n",
        "\n",
        "#y_pd = [h(i,w) for i in x_ds]\n",
        "#plt.plot(x_ds,y_ds, '*')\n",
        "#plt.plot(x_ds, y_pd)"
      ],
      "execution_count": 278,
      "outputs": []
    },
    {
      "cell_type": "code",
      "metadata": {
        "colab": {
          "base_uri": "https://localhost:8080/",
          "height": 35
        },
        "id": "wkrtUgeqYygD",
        "outputId": "6cdd6ea9-1177-46db-9120-1b8eec27ed70"
      },
      "source": [
        "\"\"\"print(math.cosh(math.pi))\n",
        "print(math.log(148.41315910257657))\n",
        "print(np.log(148.41315910257657))\"\"\""
      ],
      "execution_count": 279,
      "outputs": [
        {
          "output_type": "execute_result",
          "data": {
            "application/vnd.google.colaboratory.intrinsic+json": {
              "type": "string"
            },
            "text/plain": [
              "'print(math.cosh(math.pi))\\nprint(math.log(148.41315910257657))\\nprint(np.log(148.41315910257657))'"
            ]
          },
          "metadata": {
            "tags": []
          },
          "execution_count": 279
        }
      ]
    },
    {
      "cell_type": "markdown",
      "metadata": {
        "id": "6L4MhTpsiXqC"
      },
      "source": [
        ""
      ]
    },
    {
      "cell_type": "markdown",
      "metadata": {
        "id": "Ycdu7oppucmu"
      },
      "source": [
        "MSE: Minimun Square Error\n",
        "\n",
        "$Error =  \\frac{1}{2n}\\sum_{i=0}(y_i - h(x_i))²$"
      ]
    },
    {
      "cell_type": "code",
      "metadata": {
        "colab": {
          "base_uri": "https://localhost:8080/"
        },
        "id": "ca4XWaK4ub2f",
        "outputId": "031fcac4-644e-4726-f2e5-dec933782c9b"
      },
      "source": [
        "#MSE por comprensión\n",
        "def Error(y,x,w):\n",
        " return sum( [ (e[0] - h(e[1],w))**2 for  e in zip(y,x) ])/(2*len(y))\n",
        "\n",
        "#MAE por compresión\n",
        "def Error2(y,x,w):\n",
        " return sum( [ abs(e[0] - h(e[1],w)) for e in zip(y,x) ])/(len(y))\n",
        "\n",
        "#MSE pero con bucles\n",
        "def Error1(y,x,w):\n",
        "  suma =0\n",
        "  for i in range(len(y)):\n",
        "    suma = suma + (y[i] - h(x[i],w ))**2\n",
        "  return suma/(2*len(y))\n",
        "#MAE CON BUCLES\n",
        "def Error_MAE(y,x,w):\n",
        "  suma = 0\n",
        "  for i in range (len(y)):\n",
        "    suma = suma + abs(y[i]-h(x[i],w))\n",
        "  return suma/(len(y))\n",
        "#LOG COSH por comprensión\n",
        "def Error_logcosh1(y,x,w):\n",
        "  return sum( [np.log(math.cosh( e[0] - h(e[1],w ))) for e in zip(y,x)]) / (len(y))\n",
        "\n",
        "#LOG COSH  con bucles\n",
        "def Error_logcosh2(y, x, w): \n",
        "  suma = 0\n",
        "  for i in range(len(y)):\n",
        "    suma = suma + math.log(math.cosh(y[i] - h(x[i],w)))\n",
        "  return suma/(len(y_ds))\n",
        "#\n",
        "def Error_huber(y,x,w):\n",
        "  suma = 0\n",
        "  for i in range (len(y)):\n",
        "    var = 1*(y[i]) - h(x[i],w)\n",
        "    if abs((y[i]) - h(x[i],w))<=var:\n",
        "      suma = suma + (((y[i]) - h(x[i],w))**2)/2\n",
        "    else:\n",
        "      suma = suma + var*abs((y[i]) - h(x[i],w))-(var**2)/2\n",
        "  return suma/(len(y))\n",
        "w = np.random.rand(2)\n",
        "y_pd  = [ h(i,w) for i in x_ds ]\n",
        "\n",
        "#plt.plot(x_ds,y_ds, '*')\n",
        "#plt.plot(x_ds,y_pd)\n",
        "\n",
        "print(w)\n",
        "print(\"Error MSE2: \" + str(Error(y_ds, x_ds,w)))\n",
        "print(\"Error MSE1: \" + str(Error1(y_ds, x_ds,w)))\n",
        "print(\"Error MAE2: \" + str(Error2(y_ds, x_ds,w)))\n",
        "print(\"Error MAE2: \" + str(Error_MAE(y_ds, x_ds,w)))\n",
        "print(\"Error Huber: \" + str(Error_huber(y_ds, x_ds,w)))\n",
        "print(\"Error Log-Cosh: \" + str(Error_logcosh2(y_ds, x_ds,w)))"
      ],
      "execution_count": 280,
      "outputs": [
        {
          "output_type": "stream",
          "text": [
            "[0.1582092  0.07122568]\n",
            "Error MSE2: 122.02333590468909\n",
            "Error MSE1: 122.02333590468909\n",
            "Error MAE2: 13.169894178920995\n",
            "Error MAE2: 13.169894178920995\n",
            "Error Huber: 122.02333590468909\n",
            "Error Log-Cosh: 12.515559361528867\n"
          ],
          "name": "stdout"
        }
      ]
    },
    {
      "cell_type": "markdown",
      "metadata": {
        "id": "hWHymu8ZxHw8"
      },
      "source": [
        "Calcular las derivadas (Gradiente)\n",
        "\n",
        "$Error =  \\frac{1}{2n}\\sum_{i=0}(y_i - h(x_i))²$\n",
        "\n",
        "\n",
        "\n",
        "$\\frac{ \\partial Error}{\\partial w_0}  = \\frac{1}{n}\\sum_{i=0}(y_i - h(x_i))*(-1) $\n",
        "\n",
        "$\\frac{ \\partial Error}{\\partial w_1}  = \\frac{1}{n}\\sum_{i=0}(y_i - h(x_i))*(-x) $\n"
      ]
    },
    {
      "cell_type": "markdown",
      "metadata": {
        "id": "dUn3chqvzsvO"
      },
      "source": [
        "Error Log-Cosh Loss\n",
        "\n",
        "$h(x_i) = w_0 + w_1*x$ \n",
        "\n",
        "$Error =  \\sum_{i=0}\\log{(\\cosh{(y_i - h(x_i))}}$\n",
        "\n",
        "$Error =  \\sum_{i=0}\\log{(\\cosh{(y_i - w_0 - w_1*x))}}$\n",
        "\n",
        "$\\frac{ \\partial Error}{\\partial w_0}  =  -\\tanh{(y_i - h(x_i))}$\n",
        "\n",
        "$\\frac{ \\partial Error}{\\partial w_1}  =\\tanh{(y_i - h(x_i))} $"
      ]
    },
    {
      "cell_type": "code",
      "metadata": {
        "id": "g-C4zD6uxGYz",
        "colab": {
          "base_uri": "https://localhost:8080/"
        },
        "outputId": "baccda4c-ddbd-4283-dbc2-a6c3426264f0"
      },
      "source": [
        "# NO MODIFIQUEN MI COPIA POR FAVOR, HAGAN SU PROPIA COPIA\n",
        "b_w = np.random.rand(2)\n",
        "def grad_mse(y,x,w):\n",
        "\n",
        "  grad_w0 = 2*sum([ (e[0] - h(e[1],w))*(-1)    for e in zip(y,x) ])/len(y)\n",
        "  grad_w1 = 2*sum([ (e[0] - h(e[1],w))*(-e[1]) for e in zip(y,x) ])/len(y)\n",
        "  return grad_w0, grad_w1\n",
        "\n",
        "def grad_mae(y,x,w):\n",
        "\n",
        "  grad_w0 = sum([ (e[0] - h(e[1],w)/abs(e[0] - h(e[1],w))*(-1)) for e in zip(y,x) ])/len(y)\n",
        "  grad_w1 = sum([ (e[0] - h(e[1],w)/abs(e[0] - h(e[1],w))*(-e[1])) for e in zip(y,x)])/len(y)\n",
        "  return grad_w0,grad_w1\n",
        "\n",
        "def grad_huber(y,x,w):\n",
        "  var = 1*(y[0]) - h(x[1],w)\n",
        "  if abs((y[0]) - h(x[1],w))<=var:\n",
        "    grad_w0 = 2*sum([ (e[0] - h(e[1],w))*(-1)    for e in zip(y,x) ])/len(y)\n",
        "    grad_w1 = 2*sum([ (e[0] - h(e[1],w))*(-e[1]) for e in zip(y,x) ])/len(y)\n",
        "    return grad_w0, grad_w1\n",
        "  else:\n",
        "    grad_w0 = sum([ (-1)*(e[0] - h(e[1],w)/abs(e[0] - h(e[1],w))*(-1)) for e in zip(y,x) ])/len(y)\n",
        "    grad_w1 = sum([ (-e[1])*(e[0] - h(e[1],w)/abs(e[0] - h(e[1],w))*(-e[1])) for e in zip(y,x)])/len(y) \n",
        "    return grad_w0, grad_w1\n",
        "\n",
        "def grad_logcosh(y, x, w):\n",
        "  grad_w0 = sum([ (math.tanh(e[0] - h(e[1],w)))*(-1) for e in zip(y,x)])\n",
        "  grad_w1 = sum([ (math.tanh(e[0] - h(e[1],w))) for e in zip(y,x)])\n",
        "\n",
        "  return grad_w0, grad_w1           \n",
        " \n",
        "\n",
        "print(grad_mse(y_ds, x_ds, w))\n",
        "print(grad_mae(y_ds, x_ds, w))\n",
        "print(grad_huber(y_ds, x_ds, w))\n",
        "print(grad_logcosh(y_ds, x_ds, w))"
      ],
      "execution_count": 281,
      "outputs": [
        {
          "output_type": "stream",
          "text": [
            "(-26.33978835784199, -523.1760153516781)\n",
            "(14.614150895468319, 15.84969700210062)\n",
            "(-26.33978835784199, -523.1760153516781)\n",
            "(-28.13077566591141, 28.13077566591141)\n"
          ],
          "name": "stdout"
        }
      ]
    },
    {
      "cell_type": "code",
      "metadata": {
        "id": "f6Pf2pBbvL4-",
        "colab": {
          "base_uri": "https://localhost:8080/",
          "height": 296
        },
        "outputId": "be332cd9-e001-4d59-c75f-9c160c65830d"
      },
      "source": [
        "def train(x_ds, y_ds, w, epochs, alpha):\n",
        "  w = np.random.rand(2)\n",
        "  list_error = []\n",
        "  time = []\n",
        "  for i in range(epochs):\n",
        "    Err = Error2(y_ds,x_ds,w)  \n",
        "    list_error.append(Err)\n",
        "    time.append(i)\n",
        "    grad_w0, grad_w1 = grad_huber(y_ds,x_ds,w)\n",
        "    w[0] = w[0] - alpha*grad_w0\n",
        "    w[1] = w[1] - alpha*grad_w1\n",
        "  plt.xlabel(\"Time\")\n",
        "  plt.ylabel(\"Loss\")\n",
        "  #plt.plot(time,list_error, '*')\n",
        "  return time,list_error\n",
        "\n",
        "train(x_ds,y_ds, w, 50,0.007)\n",
        "plt.plot(x_ds, y_ds,'*')\n",
        "plt.plot(x_ds, [ h(i,w) for i in x_ds])"
      ],
      "execution_count": 282,
      "outputs": [
        {
          "output_type": "execute_result",
          "data": {
            "text/plain": [
              "[<matplotlib.lines.Line2D at 0x7f3596c5b210>]"
            ]
          },
          "metadata": {
            "tags": []
          },
          "execution_count": 282
        },
        {
          "output_type": "display_data",
          "data": {
            "image/png": "[encoded data removed]",
            "text/plain": [
              "<Figure size 432x288 with 1 Axes>"
            ]
          },
          "metadata": {
            "tags": [],
            "needs_background": "light"
          }
        }
      ]
    },
    {
      "cell_type": "code",
      "metadata": {
        "colab": {
          "base_uri": "https://localhost:8080/",
          "height": 296
        },
        "id": "nF9afCvRK4Ko",
        "outputId": "1aebca1e-6b7d-45b3-e6da-474c0a60beff"
      },
      "source": [
        "def train(x_ds, y_ds, w, epochs, alpha):\n",
        "  w = np.random.rand(2)\n",
        "  list_error = []\n",
        "  time = []\n",
        "  for i in range(epochs):\n",
        "    Err = Error_logcosh1(y_ds,x_ds,w) \n",
        "    list_error.append(Err)\n",
        "    time.append(i)\n",
        "    grad_w0, grad_w1 = grad_logcosh(y_ds,x_ds,w)\n",
        "    w[0] = w[0] - alpha*grad_w0\n",
        "    w[1] = w[1] - alpha*grad_w1\n",
        "  plt.xlabel(\"Time\")\n",
        "  plt.ylabel(\"Loss\")\n",
        "  #plt.plot(time,list_error, '*')\n",
        "  return time,list_error\n",
        "\n",
        "train(x_ds,y_ds, w, 50,0.007)\n",
        "plt.plot(x_ds, y_ds,'*')\n",
        "plt.plot(x_ds, [ h(i,w) for i in x_ds])"
      ],
      "execution_count": 283,
      "outputs": [
        {
          "output_type": "execute_result",
          "data": {
            "text/plain": [
              "[<matplotlib.lines.Line2D at 0x7f3596bcc090>]"
            ]
          },
          "metadata": {
            "tags": []
          },
          "execution_count": 283
        },
        {
          "output_type": "display_data",
          "data": {
            "image/png": "[encoded data removed]",
            "text/plain": [
              "<Figure size 432x288 with 1 Axes>"
            ]
          },
          "metadata": {
            "tags": [],
            "needs_background": "light"
          }
        }
      ]
    },
    {
      "cell_type": "markdown",
      "metadata": {
        "id": "RZnWdBX4zGGI"
      },
      "source": [
        ""
      ]
    }
  ]
}